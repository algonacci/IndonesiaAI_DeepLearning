{
  "cells": [
    {
      "cell_type": "markdown",
      "source": [
        "### Import Libraries"
      ],
      "metadata": {
        "id": "unwGy5R_wmBH"
      }
    },
    {
      "cell_type": "code",
      "execution_count": 1,
      "metadata": {
        "id": "KlEYxC7MvwZ2"
      },
      "outputs": [],
      "source": [
        "from math import log"
      ]
    },
    {
      "cell_type": "markdown",
      "metadata": {
        "id": "miXxd_R3vwZ9"
      },
      "source": [
        "## Mean Squared Error"
      ]
    },
    {
      "cell_type": "code",
      "execution_count": 2,
      "metadata": {
        "id": "IQqs4tlsvwaB"
      },
      "outputs": [],
      "source": [
        "# calculate mean squared error\n",
        "def mean_squared_error(actual, predicted):\n",
        "    \n",
        "    sum_square_error = 0.0\n",
        "    \n",
        "    for i in range(len(actual)):\n",
        "        sum_square_error += (actual[i] - predicted[i])**2.0\n",
        "    mean_square_error = 1.0 / len(actual) * sum_square_error\n",
        "    return mean_square_error"
      ]
    },
    {
      "cell_type": "markdown",
      "metadata": {
        "id": "fgblZyULvwaC"
      },
      "source": [
        "## Binary Cross Entropy"
      ]
    },
    {
      "cell_type": "code",
      "execution_count": 3,
      "metadata": {
        "id": "xTVGpj30vwaC"
      },
      "outputs": [],
      "source": [
        "# calculate binary cross entropy\n",
        "def binary_cross_entropy(actual, predicted):\n",
        "\n",
        "    sum_score = 0.0\n",
        "    for i in range(len(actual)):\n",
        "        sum_score += actual[i] * log(1e-15 + predicted[i])\n",
        "    mean_sum_score = 1.0 / len(actual) * sum_score\n",
        "    return -mean_sum_score"
      ]
    },
    {
      "cell_type": "markdown",
      "metadata": {
        "id": "pCiu2UvmvwaD"
      },
      "source": [
        "## Categorical Cross Entropy"
      ]
    },
    {
      "cell_type": "code",
      "execution_count": 4,
      "metadata": {
        "id": "T-amkddPvwaE"
      },
      "outputs": [],
      "source": [
        "# calculate categorical cross entropy\n",
        "def categorical_cross_entropy(actual, predicted):\n",
        "    \n",
        "    sum_score = 0.0\n",
        "    for i in range(len(actual)):\n",
        "        for j in range(len(actual[i])):\n",
        "            sum_score += actual[i][j] * log(1e-15 + predicted[i][j])\n",
        "    mean_sum_score = 1.0 / len(actual) * sum_score\n",
        "    return -mean_sum_score"
      ]
    },
    {
      "cell_type": "markdown",
      "metadata": {
        "id": "ApW4UhpUvwaF"
      },
      "source": [
        "---"
      ]
    }
  ],
  "metadata": {
    "kernelspec": {
      "display_name": "Python 3 (ipykernel)",
      "language": "python",
      "name": "python3"
    },
    "language_info": {
      "codemirror_mode": {
        "name": "ipython",
        "version": 3
      },
      "file_extension": ".py",
      "mimetype": "text/x-python",
      "name": "python",
      "nbconvert_exporter": "python",
      "pygments_lexer": "ipython3",
      "version": "3.8.3"
    },
    "colab": {
      "name": "Pertemuan-6-Loss_Function.ipynb",
      "provenance": [],
      "collapsed_sections": []
    }
  },
  "nbformat": 4,
  "nbformat_minor": 0
}