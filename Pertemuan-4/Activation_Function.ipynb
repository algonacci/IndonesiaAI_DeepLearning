{
  "cells": [
    {
      "cell_type": "code",
      "execution_count": 1,
      "metadata": {
        "id": "e-9NTmGSlFsr"
      },
      "outputs": [],
      "source": [
        "import numpy as np"
      ]
    },
    {
      "cell_type": "markdown",
      "metadata": {
        "id": "2GLGvu3VlFsv"
      },
      "source": [
        "## Binary Step Function"
      ]
    },
    {
      "cell_type": "code",
      "execution_count": 2,
      "metadata": {
        "id": "xU2iLwellFsy"
      },
      "outputs": [],
      "source": [
        "def binary_step(x):\n",
        "    \n",
        "    if x<0:\n",
        "        return 0\n",
        "    else:\n",
        "        return 1"
      ]
    },
    {
      "cell_type": "code",
      "execution_count": 3,
      "metadata": {
        "id": "85s4sy_ElFs0",
        "outputId": "0c950626-883d-4feb-e10c-cb01b54516ff",
        "colab": {
          "base_uri": "https://localhost:8080/"
        }
      },
      "outputs": [
        {
          "output_type": "execute_result",
          "data": {
            "text/plain": [
              "(1, 0)"
            ]
          },
          "metadata": {},
          "execution_count": 3
        }
      ],
      "source": [
        "binary_step(5), binary_step(-10)"
      ]
    },
    {
      "cell_type": "markdown",
      "metadata": {
        "id": "l6VAZgdtlFs2"
      },
      "source": [
        "## Linear Function"
      ]
    },
    {
      "cell_type": "code",
      "execution_count": 4,
      "metadata": {
        "id": "CEseWSuflFs3"
      },
      "outputs": [],
      "source": [
        "def linear_function(x):\n",
        "    \n",
        "    return 2*x"
      ]
    },
    {
      "cell_type": "code",
      "execution_count": 5,
      "metadata": {
        "id": "Gx2AcufSlFs4",
        "outputId": "b52a2c5b-fcb5-4569-c1cd-7464707a5a1a",
        "colab": {
          "base_uri": "https://localhost:8080/"
        }
      },
      "outputs": [
        {
          "output_type": "execute_result",
          "data": {
            "text/plain": [
              "(10, -20)"
            ]
          },
          "metadata": {},
          "execution_count": 5
        }
      ],
      "source": [
        "linear_function(5), linear_function(-10)"
      ]
    },
    {
      "cell_type": "markdown",
      "metadata": {
        "id": "n-2xVRUTlFs5"
      },
      "source": [
        "## Sigmoid Function"
      ]
    },
    {
      "cell_type": "code",
      "execution_count": 6,
      "metadata": {
        "id": "heyzJAM8lFs5"
      },
      "outputs": [],
      "source": [
        "def sigmoid_function(x):\n",
        "    \n",
        "    z = (1/(1 + np.exp(-x)))\n",
        "    \n",
        "    return z"
      ]
    },
    {
      "cell_type": "code",
      "execution_count": 7,
      "metadata": {
        "id": "HyJPmgznlFs8",
        "outputId": "3b27f1b9-eac7-4a67-8423-3a1f04c621a6",
        "colab": {
          "base_uri": "https://localhost:8080/"
        }
      },
      "outputs": [
        {
          "output_type": "execute_result",
          "data": {
            "text/plain": [
              "(0.9933071490757153, 4.5397868702434395e-05)"
            ]
          },
          "metadata": {},
          "execution_count": 7
        }
      ],
      "source": [
        "sigmoid_function(5), sigmoid_function(-10)"
      ]
    },
    {
      "cell_type": "markdown",
      "metadata": {
        "id": "EXmi2X5jlFs9"
      },
      "source": [
        "## TanH Function"
      ]
    },
    {
      "cell_type": "code",
      "execution_count": 8,
      "metadata": {
        "id": "VKYoMfYPlFs9"
      },
      "outputs": [],
      "source": [
        "def tanh_function(x):\n",
        "    \n",
        "    z = (2/(1 + np.exp(-2*x))) -1\n",
        "    \n",
        "    return z"
      ]
    },
    {
      "cell_type": "code",
      "execution_count": 9,
      "metadata": {
        "id": "zq3gMnw2lFs-",
        "outputId": "f8a58c81-b025-4c7d-b495-a05352c08b94",
        "colab": {
          "base_uri": "https://localhost:8080/"
        }
      },
      "outputs": [
        {
          "output_type": "execute_result",
          "data": {
            "text/plain": [
              "(0.9999092042625952, -0.9999999958776927)"
            ]
          },
          "metadata": {},
          "execution_count": 9
        }
      ],
      "source": [
        "tanh_function(5), tanh_function(-10)"
      ]
    },
    {
      "cell_type": "markdown",
      "metadata": {
        "id": "0ZTalMm3lFs-"
      },
      "source": [
        "## ReLU Function"
      ]
    },
    {
      "cell_type": "code",
      "execution_count": 10,
      "metadata": {
        "id": "RKlNM9zjlFs_"
      },
      "outputs": [],
      "source": [
        "#max(y,0)\n",
        "\n",
        "def relu_function(x):\n",
        "    \n",
        "    if x<0:\n",
        "        return 0\n",
        "    else:\n",
        "        return x"
      ]
    },
    {
      "cell_type": "code",
      "execution_count": 11,
      "metadata": {
        "id": "wSWN6FlTlFs_",
        "outputId": "d0377b8e-61e6-4b6a-fcaf-b9739e4e6ac5",
        "colab": {
          "base_uri": "https://localhost:8080/"
        }
      },
      "outputs": [
        {
          "output_type": "execute_result",
          "data": {
            "text/plain": [
              "(5, 0)"
            ]
          },
          "metadata": {},
          "execution_count": 11
        }
      ],
      "source": [
        "relu_function(5), relu_function(-10)"
      ]
    },
    {
      "cell_type": "markdown",
      "metadata": {
        "id": "t0naUl7UlFtA"
      },
      "source": [
        "## Leaky ReLU Function"
      ]
    },
    {
      "cell_type": "code",
      "execution_count": 12,
      "metadata": {
        "id": "H9f49RutlFtA"
      },
      "outputs": [],
      "source": [
        "def leaky_relu_function(x):\n",
        "    \n",
        "    if x<0:\n",
        "        return 0.01*x\n",
        "    else:\n",
        "        return x"
      ]
    },
    {
      "cell_type": "code",
      "execution_count": 13,
      "metadata": {
        "id": "2mjaELdTlFtB",
        "outputId": "3e36b98e-3c9e-4e1b-ed7e-468c736b1864",
        "colab": {
          "base_uri": "https://localhost:8080/"
        }
      },
      "outputs": [
        {
          "output_type": "execute_result",
          "data": {
            "text/plain": [
              "(5, -0.1)"
            ]
          },
          "metadata": {},
          "execution_count": 13
        }
      ],
      "source": [
        "leaky_relu_function(5), leaky_relu_function(-10)"
      ]
    },
    {
      "cell_type": "markdown",
      "metadata": {
        "id": "TglZZUOflFtB"
      },
      "source": [
        "## Softmax Function"
      ]
    },
    {
      "cell_type": "code",
      "execution_count": 14,
      "metadata": {
        "id": "GFYfFLnLlFtC"
      },
      "outputs": [],
      "source": [
        "def softmax_function(x):\n",
        "    \n",
        "    z = np.exp(x)\n",
        "    logits = z/z.sum()\n",
        "    \n",
        "    return logits"
      ]
    },
    {
      "cell_type": "code",
      "execution_count": 15,
      "metadata": {
        "scrolled": true,
        "id": "CrrR3OTSlFtC",
        "outputId": "67f66d5b-fd14-4725-cffe-0d126655872a",
        "colab": {
          "base_uri": "https://localhost:8080/"
        }
      },
      "outputs": [
        {
          "output_type": "execute_result",
          "data": {
            "text/plain": [
              "array([0.08021815, 0.11967141, 0.80011044])"
            ]
          },
          "metadata": {},
          "execution_count": 15
        }
      ],
      "source": [
        "softmax_function([0.8, 1.2, 3.1])"
      ]
    },
    {
      "cell_type": "markdown",
      "metadata": {
        "id": "MYQMjSaJlFtC"
      },
      "source": [
        "## eLU Function"
      ]
    },
    {
      "cell_type": "code",
      "execution_count": 16,
      "metadata": {
        "id": "BcZKoxl7lFtD"
      },
      "outputs": [],
      "source": [
        "def elu_function(x, a):\n",
        "    \n",
        "    if x<0:\n",
        "        return a*(np.exp(x)-1)\n",
        "    else:\n",
        "        return x"
      ]
    },
    {
      "cell_type": "code",
      "execution_count": 17,
      "metadata": {
        "id": "mfJGpiptlFtD",
        "outputId": "3d882319-a6d2-494d-961f-6e32b3221932",
        "colab": {
          "base_uri": "https://localhost:8080/"
        }
      },
      "outputs": [
        {
          "output_type": "execute_result",
          "data": {
            "text/plain": [
              "(5, -0.09999546000702375)"
            ]
          },
          "metadata": {},
          "execution_count": 17
        }
      ],
      "source": [
        "elu_function(5, 0.1), elu_function(-10, 0.1)"
      ]
    },
    {
      "cell_type": "markdown",
      "metadata": {
        "id": "twUrZXtklFtE"
      },
      "source": [
        "## Swish Function"
      ]
    },
    {
      "cell_type": "code",
      "execution_count": 18,
      "metadata": {
        "id": "CarZufoilFtE"
      },
      "outputs": [],
      "source": [
        "def swish_function(x):\n",
        "    \n",
        "    return x/(1-np.exp(-x))"
      ]
    },
    {
      "cell_type": "code",
      "execution_count": 19,
      "metadata": {
        "scrolled": false,
        "id": "goQSPUSLlFtE",
        "outputId": "bf508d05-306c-405c-ee70-c21c425eec8e",
        "colab": {
          "base_uri": "https://localhost:8080/"
        }
      },
      "outputs": [
        {
          "output_type": "execute_result",
          "data": {
            "text/plain": [
              "(5.033918274531521, 0.00045401991009687764)"
            ]
          },
          "metadata": {},
          "execution_count": 19
        }
      ],
      "source": [
        "swish_function(5), swish_function(-10)"
      ]
    },
    {
      "cell_type": "markdown",
      "metadata": {
        "id": "85ant4eclFtF"
      },
      "source": [
        "---"
      ]
    }
  ],
  "metadata": {
    "kernelspec": {
      "display_name": "Python 3 (ipykernel)",
      "language": "python",
      "name": "python3"
    },
    "language_info": {
      "codemirror_mode": {
        "name": "ipython",
        "version": 3
      },
      "file_extension": ".py",
      "mimetype": "text/x-python",
      "name": "python",
      "nbconvert_exporter": "python",
      "pygments_lexer": "ipython3",
      "version": "3.8.3"
    },
    "colab": {
      "name": "Copy of Machine Learning - Deep Neural Network (Activation Function).ipynb",
      "provenance": [],
      "collapsed_sections": []
    }
  },
  "nbformat": 4,
  "nbformat_minor": 0
}